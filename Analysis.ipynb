{
 "cells": [
  {
   "cell_type": "markdown",
   "metadata": {},
   "source": [
    "# Code Replication: Inducing Domain-Specific Sentiment Lexicons from Unlabeled Corpora\n",
    "\n",
    "In this notebook, we present some of the interesting results we collected from our replication of [Inducing Domain-Specific Sentiment Lexicons from Unlabeled Corpora](https://arxiv.org/abs/1606.02820).\n",
    "\n",
    "The paper presents SocialSent, a framework for inducing domain-specific sentiment lexicons. Their approach relies on specifing a small amount of *seed words* to bootstrap their algorithm. The algorithm claims to be competitive with state-of-the-art approachs that usually rely heavily on large, hand crafted feature-sets.\n",
    "\n",
    "### Code Rewrite and Maintenance\n",
    "\n",
    "While the original paper does have [https://github.com/williamleif/socialsent/](source code available), we found numerous issues with it. The codebase is written in an outdated Python version (2.7), and depends on old packages, such as Keras 0.3. Among other packages, the Keras package is highly outdated, and currently seems to be uninstallable using `pip`. Furthermore, the repository lacks scripts to acquire and preprocess the data, and is very difficult to use due to the prevalance of hard-coded paths throughout the project. While these issues have been addressed by the authors ([#5](https://github.com/williamleif/socialsent/issues/5) [#12](https://github.com/williamleif/socialsent/issues/12) [#13](https://github.com/williamleif/socialsent/issues/13)), there has not been any work to resolve them.\n",
    "\n",
    "To be able to run the code, we heavily refractored the original code base and have made it [available online](https://github.com/max-eth/domain-specific-sentiment-lexicons). Our contributions include porting the code to be runnable on current python versions, refractoring the paths and algorithm parameters into an easily configureable location, adding user features such as command line UIs and progress indicators, as well as instructions and scripts to allow users to easily run the algorithm on modern reddit datasets. We also undertook several performance oriented changes due to limitations in our compute resources. Finally, we implemented several new features, which will be detailed later in the notebook.\n"
   ]
  }, {
   "cell_type": "code",
   "execution_count": 2,
   "metadata": {},
   "outputs": [
    {
     "name": "stderr",
     "output_type": "stream",
     "text": [
      "unable to import 'smart_open.gcs', disabling that module\n"
     ]
    }
   ],
   "source": [
    "import numpy as np\n",
    "import pandas as pd\n",
    "import pickle\n",
    "import matplotlib.pyplot as plt\n",
    "from collections import defaultdict\n",
    "from gensim.parsing.preprocessing import STOPWORDS\n",
    "from sklearn.preprocessing import StandardScaler\n",
    "\n",
    "import json\n",
    "from tqdm.notebook import tqdm\n",
    "\n",
    "import os\n",
    "\n",
    "import pyximport\n",
    "pyximport.install(setup_args={\"include_dirs\": np.get_include()})\n",
    "from socialsent.representations import sparse_io\n",
    "from socialsent.main import compute_polarities"
   ]
  },
  {
   "cell_type": "code",
   "execution_count": 3,
   "metadata": {},
   "outputs": [],
   "source": [
    "plt.style.use('seaborn') # for better looking plots"
   ]
  },
  {
   "cell_type": "code",
   "execution_count": 4,
   "metadata": {},
   "outputs": [],
   "source": [
    "# Utility methods\n",
    "def load_df(sub, prefix='stemmed-scores-0-', scale=True, counts=True):\n",
    "    pols = pickle.load(open(\"data/{}/{}polarities.pkl\".format(sub, prefix), \"rb\"))\n",
    "    means = defaultdict(list)\n",
    "    for run in pols:\n",
    "        for word, value in run.items():\n",
    "            means[word].append(value)\n",
    "        \n",
    "    df = pd.DataFrame([(word, np.nanmean(values), np.nanstd(values)) for word, values in means.items()], columns =[\"word\", \"mean\", \"std\"])\n",
    "\n",
    "    df = df.sort_values(by=[\"mean\"], ascending=False)\n",
    "    \n",
    "    if counts:\n",
    "        get_top5_coocs(df, sub, prefix)\n",
    "        \n",
    "    if scale:\n",
    "        scaler = StandardScaler(with_std=False)\n",
    "        df[\"mean\"] = scaler.fit_transform(df[\"mean\"].values.reshape(-1, 1))\n",
    "    df = df[df[\"word\"].apply(lambda x: len(x)) > 1] \n",
    "\n",
    "    return df.set_index('word')\n",
    "    \n",
    "def get_top5_coocs(df, subreddit, prefix):\n",
    "    mat = sparse_io.retrieve_mat_as_coo(\"data/{}/{}counts.bin\".format(subreddit, prefix).encode()).tocsr()\n",
    "    index = pickle.load(open('data/{}/{}index.pkl'.format(subreddit, prefix), 'rb'))\n",
    "\n",
    "    arr = np.array(mat.todense())\n",
    "\n",
    "    rev_index = {v: k for k, v in index.items()}\n",
    "\n",
    "    # remove words that we don't need counts for\n",
    "    pol_idx = np.array([\n",
    "        index[word] for word in df['word']\n",
    "    ])\n",
    "    arr = arr[pol_idx, :]\n",
    "\n",
    "    # remove stopwords\n",
    "    stopword_idx = np.array([index[stopword] for stopword in STOPWORDS if stopword in index])\n",
    "    arr[:, stopword_idx] = 0\n",
    "\n",
    "    top_idx = np.argsort(arr, axis=1)[:, -5:]\n",
    "\n",
    "    top_words = [list(map(lambda x: rev_index[x], row)) for row in top_idx]\n",
    "    df['cooccurring_words'] = top_words\n",
    "\n",
    "def compare(subA, subB, prefixA='stemmed-scores-0-', prefixB='stemmed-scores-0-', scale=True):\n",
    "    \n",
    "    df_A = load_df(subA, prefixA, scale=scale).reset_index()\n",
    "    df_B = load_df(subB, prefixB, scale=scale).reset_index()\n",
    "    \n",
    "    joined = df_A.merge(df_B, on='word', how=\"inner\", suffixes=(\"_\" + subA, \"_\" + subB))\n",
    "    \n",
    "    joined[\"mean_difference\"] = joined[\"mean_\" + subA].values - joined[\"mean_\" + subB].values\n",
    "    joined[\"std_difference\"] = np.sqrt(joined[\"std_\" + subA].values**2 + joined[\"std_\" + subB].values**2)\n",
    "\n",
    "    joined = joined.sort_values(by=[\"mean_difference\"], ascending=False)\n",
    "    return df_A.set_index('word'), df_B.set_index('word'), joined.set_index('word')"
   ]
  },
  {
   "cell_type": "markdown",
   "metadata": {},
   "source": [
    "# Dataset\n",
    "The original paper showcased results of SentProp on a dataset of reddit comments from 2015, collected from the 250 most popular subreddits. We decided to analyze a new, different dataset; we collected posts from 2019, spanning the months of July, August and September. Instructions showing how to run the code on this dataset can be found in the README of our repository.\n",
    "\n",
    "Over the years, the nature of reddit appears to have shifted heavily in size: popular subreddits (sub-forums of reddit dedicated to specific topics), such as r/AskReddit have grown from ~10M to ~30M subscribers. \n",
    "\n",
    "Due to limitations of our compute resources, we focus on a smaller timespan of 3 months, and a smaller selection of hand-picked subreddits that we found interesting. \n",
    "\n",
    "# Sentiment Lexicon Generation\n",
    "With SentProp, sentiment scores can be generated for a corporus. Given some seed words, sentiment scores are obtained by building a graph from corpus specific word embeddings, and propagating sentiment values across this graph.\n",
    "\n",
    "Unless indicated otherwise, we use the same seed words as the paper:"
   ]
  },
  {
   "cell_type": "code",
   "execution_count": 5,
   "metadata": {},
   "outputs": [
    {
     "name": "stdout",
     "output_type": "stream",
     "text": [
      "Positive: ['love', 'loved', 'loves', 'awesome', 'nice', 'amazing', 'best', 'fantastic', 'correct', 'happy']\n",
      "Negative: ['hate', 'hated', 'hates', 'terrible', 'nasty', 'awful', 'worst', 'horrible', 'wrong', 'sad']\n"
     ]
    }
   ],
   "source": [
    "from socialsent.seeds import twitter_seeds\n",
    "print(\"Positive:\", twitter_seeds()[0])\n",
    "print(\"Negative:\", twitter_seeds()[1])"
   ]
  },
  {
   "cell_type": "markdown",
   "metadata": {},
   "source": [
    "Our first results show a small sample of sentiment values we generate for the subreddit r/sports, which is dedicated to coverage and discussion of professional sport events.\n",
    "\n",
    "The following cell shows the top sentiment values we generated. Following the approach from the paper, we perform variance estimation by running the propagation several times with different subsets of the seed words. In the following table, **mean** represents the mean sentiment values across the runs, **std** represents the standard deviation, and **coocurring_words** lists the 5 most common words that appeared within a sliding window of the word in the corpus."
   ]
  },
  {
   "cell_type": "code",
   "execution_count": 6,
   "metadata": {},
   "outputs": [
    {
     "data": {
      "text/html": [
       "<div>\n",
       "<style scoped>\n",
       "    .dataframe tbody tr th:only-of-type {\n",
       "        vertical-align: middle;\n",
       "    }\n",
       "\n",
       "    .dataframe tbody tr th {\n",
       "        vertical-align: top;\n",
       "    }\n",
       "\n",
       "    .dataframe thead th {\n",
       "        text-align: right;\n",
       "    }\n",
       "</style>\n",
       "<table border=\"1\" class=\"dataframe\">\n",
       "  <thead>\n",
       "    <tr style=\"text-align: right;\">\n",
       "      <th></th>\n",
       "      <th>mean</th>\n",
       "      <th>std</th>\n",
       "      <th>cooccurring_words</th>\n",
       "    </tr>\n",
       "    <tr>\n",
       "      <th>word</th>\n",
       "      <th></th>\n",
       "      <th></th>\n",
       "      <th></th>\n",
       "    </tr>\n",
       "  </thead>\n",
       "  <tbody>\n",
       "    <tr>\n",
       "      <th>catch</th>\n",
       "      <td>0.170501</td>\n",
       "      <td>0.094655</td>\n",
       "      <td>[time, play, https, away, ball]</td>\n",
       "    </tr>\n",
       "    <tr>\n",
       "      <th>say</th>\n",
       "      <td>0.169856</td>\n",
       "      <td>0.098214</td>\n",
       "      <td>[let, time, thing, like, people]</td>\n",
       "    </tr>\n",
       "    <tr>\n",
       "      <th>fan</th>\n",
       "      <td>0.161450</td>\n",
       "      <td>0.107344</td>\n",
       "      <td>[huge, big, team, football, fan]</td>\n",
       "    </tr>\n",
       "    <tr>\n",
       "      <th>class</th>\n",
       "      <td>0.159139</td>\n",
       "      <td>0.109722</td>\n",
       "      <td>[athletes, class, like, weight, world]</td>\n",
       "    </tr>\n",
       "    <tr>\n",
       "      <th>hope</th>\n",
       "      <td>0.148315</td>\n",
       "      <td>0.089210</td>\n",
       "      <td>[way, guy, man, gets, like]</td>\n",
       "    </tr>\n",
       "    <tr>\n",
       "      <th>day</th>\n",
       "      <td>0.137612</td>\n",
       "      <td>0.128347</td>\n",
       "      <td>[test, end, like, day, hours]</td>\n",
       "    </tr>\n",
       "    <tr>\n",
       "      <th>impressive</th>\n",
       "      <td>0.133323</td>\n",
       "      <td>0.093401</td>\n",
       "      <td>[think, way, isn, pretty, damn]</td>\n",
       "    </tr>\n",
       "    <tr>\n",
       "      <th>tennis</th>\n",
       "      <td>0.130294</td>\n",
       "      <td>0.134247</td>\n",
       "      <td>[like, players, years, women, player]</td>\n",
       "    </tr>\n",
       "    <tr>\n",
       "      <th>damn</th>\n",
       "      <td>0.126240</td>\n",
       "      <td>0.118791</td>\n",
       "      <td>[impressive, pretty, like, good, god]</td>\n",
       "    </tr>\n",
       "    <tr>\n",
       "      <th>years</th>\n",
       "      <td>0.125306</td>\n",
       "      <td>0.091648</td>\n",
       "      <td>[played, ve, old, like, ago]</td>\n",
       "    </tr>\n",
       "  </tbody>\n",
       "</table>\n",
       "</div>"
      ],
      "text/plain": [
       "                mean       std                       cooccurring_words\n",
       "word                                                                  \n",
       "catch       0.170501  0.094655         [time, play, https, away, ball]\n",
       "say         0.169856  0.098214        [let, time, thing, like, people]\n",
       "fan         0.161450  0.107344        [huge, big, team, football, fan]\n",
       "class       0.159139  0.109722  [athletes, class, like, weight, world]\n",
       "hope        0.148315  0.089210             [way, guy, man, gets, like]\n",
       "day         0.137612  0.128347           [test, end, like, day, hours]\n",
       "impressive  0.133323  0.093401         [think, way, isn, pretty, damn]\n",
       "tennis      0.130294  0.134247   [like, players, years, women, player]\n",
       "damn        0.126240  0.118791   [impressive, pretty, like, good, god]\n",
       "years       0.125306  0.091648            [played, ve, old, like, ago]"
      ]
     },
     "execution_count": 6,
     "metadata": {},
     "output_type": "execute_result"
    }
   ],
   "source": [
    "load_df(\"sports\", \"\").head(10)"
   ]
  },
  {
   "cell_type": "markdown",
   "metadata": {},
   "source": [
    "We immediately notice that the results do not seem to have a very high quality. To investigate this further, we downloaded their corpus lexicon, which is reproduced below."
   ]
  },
  {
   "cell_type": "code",
   "execution_count": 7,
   "metadata": {},
   "outputs": [
    {
     "data": {
      "text/html": [
       "<div>\n",
       "<style scoped>\n",
       "    .dataframe tbody tr th:only-of-type {\n",
       "        vertical-align: middle;\n",
       "    }\n",
       "\n",
       "    .dataframe tbody tr th {\n",
       "        vertical-align: top;\n",
       "    }\n",
       "\n",
       "    .dataframe thead th {\n",
       "        text-align: right;\n",
       "    }\n",
       "</style>\n",
       "<table border=\"1\" class=\"dataframe\">\n",
       "  <thead>\n",
       "    <tr style=\"text-align: right;\">\n",
       "      <th></th>\n",
       "      <th>word</th>\n",
       "      <th>mean</th>\n",
       "      <th>std</th>\n",
       "    </tr>\n",
       "  </thead>\n",
       "  <tbody>\n",
       "    <tr>\n",
       "      <th>4570</th>\n",
       "      <td>unbelievable</td>\n",
       "      <td>4.85</td>\n",
       "      <td>1.37</td>\n",
       "    </tr>\n",
       "    <tr>\n",
       "      <th>4569</th>\n",
       "      <td>epic</td>\n",
       "      <td>4.81</td>\n",
       "      <td>1.81</td>\n",
       "    </tr>\n",
       "    <tr>\n",
       "      <th>4568</th>\n",
       "      <td>phenomenal</td>\n",
       "      <td>4.75</td>\n",
       "      <td>1.37</td>\n",
       "    </tr>\n",
       "    <tr>\n",
       "      <th>4567</th>\n",
       "      <td>incredible</td>\n",
       "      <td>4.58</td>\n",
       "      <td>1.92</td>\n",
       "    </tr>\n",
       "    <tr>\n",
       "      <th>4566</th>\n",
       "      <td>wow</td>\n",
       "      <td>4.45</td>\n",
       "      <td>2.05</td>\n",
       "    </tr>\n",
       "    <tr>\n",
       "      <th>4565</th>\n",
       "      <td>sharing</td>\n",
       "      <td>4.36</td>\n",
       "      <td>2.26</td>\n",
       "    </tr>\n",
       "    <tr>\n",
       "      <th>4564</th>\n",
       "      <td>impressive</td>\n",
       "      <td>4.24</td>\n",
       "      <td>2.09</td>\n",
       "    </tr>\n",
       "    <tr>\n",
       "      <th>4563</th>\n",
       "      <td>outstanding</td>\n",
       "      <td>4.21</td>\n",
       "      <td>1.58</td>\n",
       "    </tr>\n",
       "    <tr>\n",
       "      <th>4562</th>\n",
       "      <td>unreal</td>\n",
       "      <td>4.21</td>\n",
       "      <td>2.16</td>\n",
       "    </tr>\n",
       "    <tr>\n",
       "      <th>4561</th>\n",
       "      <td>chill</td>\n",
       "      <td>4.19</td>\n",
       "      <td>1.89</td>\n",
       "    </tr>\n",
       "  </tbody>\n",
       "</table>\n",
       "</div>"
      ],
      "text/plain": [
       "              word  mean   std\n",
       "4570  unbelievable  4.85  1.37\n",
       "4569          epic  4.81  1.81\n",
       "4568    phenomenal  4.75  1.37\n",
       "4567    incredible  4.58  1.92\n",
       "4566           wow  4.45  2.05\n",
       "4565       sharing  4.36  2.26\n",
       "4564    impressive  4.24  2.09\n",
       "4563   outstanding  4.21  1.58\n",
       "4562        unreal  4.21  2.16\n",
       "4561         chill  4.19  1.89"
      ]
     },
     "execution_count": 7,
     "metadata": {},
     "output_type": "execute_result"
    }
   ],
   "source": [
    "pd.read_csv(\"data/sports.tsv\", sep='\\t', names=['word', 'mean', 'std']).sort_values(by=['mean'], ascending=False).head(10)"
   ]
  },
  {
   "cell_type": "markdown",
   "metadata": {},
   "source": [
    "Although it is surprising to see such a difference in results, we hypothesize that this is related to our smaller corpus size. In an attempt to improve the results, we experimented with stemming and preprocessing the words using the following normalization function (taken from the lecture notebooks):"
   ]
  },
  {
   "cell_type": "code",
   "execution_count": 8,
   "metadata": {},
   "outputs": [
    {
     "name": "stdout",
     "output_type": "stream",
     "text": [
      "def normalize_text(doc, stemming):\n",
      "    \"Input doc and return clean list of tokens\"\n",
      "    doc = doc.replace('\\r', ' ').replace('\\n', ' ')\n",
      "    lower = doc.lower() # all lower case\n",
      "    nopunc = lower.translate(translator) # remove punctuation\n",
      "    words = nopunc.split() # split into tokens\n",
      "    nostop = [w for w in words if w not in stoplist and not w.isdigit()] # remove stopwords\n",
      "    if stemming:\n",
      "        stemmed = [stemmer.stem(w) for w in nostop] # stem each word\n",
      "        return stemmed\n",
      "    else:\n",
      "        return nostop\n",
      "\n"
     ]
    }
   ],
   "source": [
    "import inspect\n",
    "from socialsent.reddit import subredditgen\n",
    "print(inspect.getsource(subredditgen.normalize_text))"
   ]
  },
  {
   "cell_type": "markdown",
   "metadata": {},
   "source": [
    "After applying this normalization, we find that we achieve qualitatively much better sentiment scores:"
   ]
  },
  {
   "cell_type": "code",
   "execution_count": 9,
   "metadata": {},
   "outputs": [
    {
     "data": {
      "text/html": [
       "<div>\n",
       "<style scoped>\n",
       "    .dataframe tbody tr th:only-of-type {\n",
       "        vertical-align: middle;\n",
       "    }\n",
       "\n",
       "    .dataframe tbody tr th {\n",
       "        vertical-align: top;\n",
       "    }\n",
       "\n",
       "    .dataframe thead th {\n",
       "        text-align: right;\n",
       "    }\n",
       "</style>\n",
       "<table border=\"1\" class=\"dataframe\">\n",
       "  <thead>\n",
       "    <tr style=\"text-align: right;\">\n",
       "      <th></th>\n",
       "      <th>mean</th>\n",
       "      <th>std</th>\n",
       "      <th>cooccurring_words</th>\n",
       "    </tr>\n",
       "    <tr>\n",
       "      <th>word</th>\n",
       "      <th></th>\n",
       "      <th></th>\n",
       "      <th></th>\n",
       "    </tr>\n",
       "  </thead>\n",
       "  <tbody>\n",
       "    <tr>\n",
       "      <th>great</th>\n",
       "      <td>0.219501</td>\n",
       "      <td>0.070504</td>\n",
       "      <td>[remov, player, game, play, like]</td>\n",
       "    </tr>\n",
       "    <tr>\n",
       "      <th>damn</th>\n",
       "      <td>0.202858</td>\n",
       "      <td>0.074010</td>\n",
       "      <td>[good, delet, god, remov, like]</td>\n",
       "    </tr>\n",
       "    <tr>\n",
       "      <th>wow</th>\n",
       "      <td>0.193097</td>\n",
       "      <td>0.069897</td>\n",
       "      <td>[realli, delet, wow, remov, like]</td>\n",
       "    </tr>\n",
       "    <tr>\n",
       "      <th>cool</th>\n",
       "      <td>0.182111</td>\n",
       "      <td>0.085584</td>\n",
       "      <td>[delet, remov, look, realli, like]</td>\n",
       "    </tr>\n",
       "    <tr>\n",
       "      <th>holi</th>\n",
       "      <td>0.175791</td>\n",
       "      <td>0.068748</td>\n",
       "      <td>[look, like, remov, fuck, shit]</td>\n",
       "    </tr>\n",
       "    <tr>\n",
       "      <th>japan</th>\n",
       "      <td>0.154302</td>\n",
       "      <td>0.061557</td>\n",
       "      <td>[game, world, ireland, play, team]</td>\n",
       "    </tr>\n",
       "    <tr>\n",
       "      <th>clip</th>\n",
       "      <td>0.153996</td>\n",
       "      <td>0.059631</td>\n",
       "      <td>[ball, time, remov, watch, like]</td>\n",
       "    </tr>\n",
       "    <tr>\n",
       "      <th>incred</th>\n",
       "      <td>0.149514</td>\n",
       "      <td>0.063179</td>\n",
       "      <td>[time, look, sport, remov, like]</td>\n",
       "    </tr>\n",
       "    <tr>\n",
       "      <th>remov</th>\n",
       "      <td>0.149165</td>\n",
       "      <td>0.098191</td>\n",
       "      <td>[know, look, like, delet, remov]</td>\n",
       "    </tr>\n",
       "    <tr>\n",
       "      <th>haha</th>\n",
       "      <td>0.147850</td>\n",
       "      <td>0.096156</td>\n",
       "      <td>[remov, watch, think, delet, like]</td>\n",
       "    </tr>\n",
       "  </tbody>\n",
       "</table>\n",
       "</div>"
      ],
      "text/plain": [
       "            mean       std                   cooccurring_words\n",
       "word                                                          \n",
       "great   0.219501  0.070504   [remov, player, game, play, like]\n",
       "damn    0.202858  0.074010     [good, delet, god, remov, like]\n",
       "wow     0.193097  0.069897   [realli, delet, wow, remov, like]\n",
       "cool    0.182111  0.085584  [delet, remov, look, realli, like]\n",
       "holi    0.175791  0.068748     [look, like, remov, fuck, shit]\n",
       "japan   0.154302  0.061557  [game, world, ireland, play, team]\n",
       "clip    0.153996  0.059631    [ball, time, remov, watch, like]\n",
       "incred  0.149514  0.063179    [time, look, sport, remov, like]\n",
       "remov   0.149165  0.098191    [know, look, like, delet, remov]\n",
       "haha    0.147850  0.096156  [remov, watch, think, delet, like]"
      ]
     },
     "execution_count": 9,
     "metadata": {},
     "output_type": "execute_result"
    }
   ],
   "source": [
    "load_df(\"sports\", \"stemmed-scores-0-\").head(10)"
   ]
  },
  {
   "cell_type": "markdown",
   "metadata": {},
   "source": [
    "We attribute this improvement to a higher \"data density\" resulting from the reduction in the set of words in the corpus.\n",
    "\n",
    "# Comparative Analysis between Dissimilar Communities\n",
    "Next, we perform a comparative investigation of sentiment scores between similar dissimilar communities. The general idea of this analysis is similar to that from the paper: for communities dedicated to very different topics, we look to identify interesting differences in sentiment values.\n",
    "\n",
    "To illustrate these difference, we plot differences of demeaned sentiment values. These plots allow us to identify words which have a highly different sentiment values across the communities. Futhermore, we report the coocurring words for both subreddits in the comparision to provide context."
   ]
  },
  {
   "cell_type": "code",
   "execution_count": 12,
   "metadata": {},
   "outputs": [],
   "source": [
    "def plot_comparative(joined, words):\n",
    "    subA_name = joined.columns[0][5:]\n",
    "    subB_name = joined.columns[3][5:]\n",
    "    plot_df = joined.loc[words].reset_index()\n",
    "    plot_df = plot_df.sort_values(by=['mean_difference'])\n",
    "\n",
    "    plt.figure()\n",
    "    plt.barh(plot_df['word'], plot_df['mean_difference'], xerr=plot_df['std_difference'])\n",
    "    xlabelstr  = \"\"\"\n",
    "    More negative in {}                 More positive in {}\\n\n",
    "    <-                        ->\\n\n",
    "    More positive in {}                 More negative in {}\n",
    "    \"\"\"\n",
    "    plt.xlabel((xlabelstr).format(subA_name, subA_name, subB_name, subB_name), fontsize=16)\n",
    "    plt.show()\n",
    "    return plot_df.set_index('word')[['cooccurring_words_' + subA_name, 'cooccurring_words_' + subB_name]]"
   ]
  },
  {
   "cell_type": "code",
   "execution_count": 13,
   "metadata": {},
   "outputs": [
    {
     "data": {
      "image/png": "[encoded data removed]",
      "text/plain": [
       "<Figure size 576x396 with 1 Axes>"
      ]
     },
     "metadata": {},
     "output_type": "display_data"
    },
    {
     "data": {
      "text/html": [
       "<div>\n",
       "<style scoped>\n",
       "    .dataframe tbody tr th:only-of-type {\n",
       "        vertical-align: middle;\n",
       "    }\n",
       "\n",
       "    .dataframe tbody tr th {\n",
       "        vertical-align: top;\n",
       "    }\n",
       "\n",
       "    .dataframe thead th {\n",
       "        text-align: right;\n",
       "    }\n",
       "</style>\n",
       "<table border=\"1\" class=\"dataframe\">\n",
       "  <thead>\n",
       "    <tr style=\"text-align: right;\">\n",
       "      <th></th>\n",
       "      <th>cooccurring_words_gaming</th>\n",
       "      <th>cooccurring_words_sports</th>\n",
       "    </tr>\n",
       "    <tr>\n",
       "      <th>word</th>\n",
       "      <th></th>\n",
       "      <th></th>\n",
       "    </tr>\n",
       "  </thead>\n",
       "  <tbody>\n",
       "    <tr>\n",
       "      <th>broken</th>\n",
       "      <td>[dont, fix, play, like, game]</td>\n",
       "      <td>[year, time, bone, record, like]</td>\n",
       "    </tr>\n",
       "    <tr>\n",
       "      <th>biggest</th>\n",
       "      <td>[thing, issu, problem, like, game]</td>\n",
       "      <td>[like, year, team, world, sport]</td>\n",
       "    </tr>\n",
       "    <tr>\n",
       "      <th>slow</th>\n",
       "      <td>[realli, play, like, time, game]</td>\n",
       "      <td>[ball, look, like, speed, motion]</td>\n",
       "    </tr>\n",
       "    <tr>\n",
       "      <th>movement</th>\n",
       "      <td>[play, use, control, like, game]</td>\n",
       "      <td>[camera, speed, bodi, time, like]</td>\n",
       "    </tr>\n",
       "    <tr>\n",
       "      <th>draw</th>\n",
       "      <td>[look, line, draw, game, like]</td>\n",
       "      <td>[play, game, peopl, like, line]</td>\n",
       "    </tr>\n",
       "    <tr>\n",
       "      <th>fat</th>\n",
       "      <td>[play, big, peopl, game, like]</td>\n",
       "      <td>[dont, guy, ass, like, remov]</td>\n",
       "    </tr>\n",
       "    <tr>\n",
       "      <th>dope</th>\n",
       "      <td>[like, play, pretti, game, look]</td>\n",
       "      <td>[caught, peopl, bolt, athlet, dope]</td>\n",
       "    </tr>\n",
       "  </tbody>\n",
       "</table>\n",
       "</div>"
      ],
      "text/plain": [
       "                    cooccurring_words_gaming  \\\n",
       "word                                           \n",
       "broken         [dont, fix, play, like, game]   \n",
       "biggest   [thing, issu, problem, like, game]   \n",
       "slow        [realli, play, like, time, game]   \n",
       "movement    [play, use, control, like, game]   \n",
       "draw          [look, line, draw, game, like]   \n",
       "fat           [play, big, peopl, game, like]   \n",
       "dope        [like, play, pretti, game, look]   \n",
       "\n",
       "                     cooccurring_words_sports  \n",
       "word                                           \n",
       "broken       [year, time, bone, record, like]  \n",
       "biggest      [like, year, team, world, sport]  \n",
       "slow        [ball, look, like, speed, motion]  \n",
       "movement    [camera, speed, bodi, time, like]  \n",
       "draw          [play, game, peopl, like, line]  \n",
       "fat             [dont, guy, ass, like, remov]  \n",
       "dope      [caught, peopl, bolt, athlet, dope]  "
      ]
     },
     "execution_count": 13,
     "metadata": {},
     "output_type": "execute_result"
    }
   ],
   "source": [
    "df_gaming, df_sports, joined = compare(\"gaming\", \"sports\")\n",
    "plot_comparative(joined, ['dope', 'fat', 'draw' ,'broken', 'biggest', 'slow', 'movement'])"
   ]
  },
  {
   "cell_type": "markdown",
   "metadata": {},
   "source": [
    "In this first comparative plot, we see the effectiveness of the approach in illustrating semantic differences across the communities. Some highlights are:\n",
    "*  *dope* is used as a positive adjective in r/gaming, while it is associated with performance enhancing drugs in r/sports.\n",
    "* *broken* seems to refer to a broken or badly produced video game in r/gaming, while it can refer to broken records in r/sports.\n",
    "* *fat* seems to be a far more positive word in r/gaming than r/sports.\n",
    "\n",
    "# Comparitive Analysis between Similar Communities\n",
    "Although the paper did provide some interesting analysis of communities with dissimilar domains, we decided to investigate communities that discuss similar topics.\n",
    "\n",
    "Of particular interest to us were political subreddits, which have enjoyed large growth in the past few years. In the following analysis, we investigate r/The_Donald and r/politics.\n",
    "\n",
    "r/The_Donald is a subreddit populated by supporters of Donald Trump. With its current >785,000 subscribers, it is one of the largest and most active political subreddits. Interestingly, the subreddit is rather isolated from the rest of reddit: due to the controversial nature of its users and content, the Reddit administration \"quarantined\" the subreddit in June 2019, requiring users to \"opt-in\" to viewing the subreddit and removing it from recommendations and search results.\n",
    "\n",
    "r/politics is a more general subreddit dedicated to the discussion of mainly US politics."
   ]
  },
  {
   "cell_type": "code",
   "execution_count": 14,
   "metadata": {},
   "outputs": [
    {
     "data": {
      "image/png": "[encoded data removed]",
      "text/plain": [
       "<Figure size 576x396 with 1 Axes>"
      ]
     },
     "metadata": {},
     "output_type": "display_data"
    },
    {
     "data": {
      "text/html": [
       "<div>\n",
       "<style scoped>\n",
       "    .dataframe tbody tr th:only-of-type {\n",
       "        vertical-align: middle;\n",
       "    }\n",
       "\n",
       "    .dataframe tbody tr th {\n",
       "        vertical-align: top;\n",
       "    }\n",
       "\n",
       "    .dataframe thead th {\n",
       "        text-align: right;\n",
       "    }\n",
       "</style>\n",
       "<table border=\"1\" class=\"dataframe\">\n",
       "  <thead>\n",
       "    <tr style=\"text-align: right;\">\n",
       "      <th></th>\n",
       "      <th>cooccurring_words_politics</th>\n",
       "      <th>cooccurring_words_The_Donald</th>\n",
       "    </tr>\n",
       "    <tr>\n",
       "      <th>word</th>\n",
       "      <th></th>\n",
       "      <th></th>\n",
       "    </tr>\n",
       "  </thead>\n",
       "  <tbody>\n",
       "    <tr>\n",
       "      <th>patriot</th>\n",
       "      <td>[peopl, trump, like, american, act]</td>\n",
       "      <td>[coat, god, love, #, brick]</td>\n",
       "    </tr>\n",
       "    <tr>\n",
       "      <th>maga</th>\n",
       "      <td>[like, peopl, wear, trump, hat]</td>\n",
       "      <td>[content, wear, trump, #, hat]</td>\n",
       "    </tr>\n",
       "    <tr>\n",
       "      <th>melania</th>\n",
       "      <td>[think, look, like, remov, trump]</td>\n",
       "      <td>[delet, #, like, look, trump]</td>\n",
       "    </tr>\n",
       "    <tr>\n",
       "      <th>american</th>\n",
       "      <td>[nativ, like, american, trump, peopl]</td>\n",
       "      <td>[citizen, like, american, peopl, #]</td>\n",
       "    </tr>\n",
       "    <tr>\n",
       "      <th>flag</th>\n",
       "      <td>[trump, flag, confeder, law, red]</td>\n",
       "      <td>[#, flag, american, law, red]</td>\n",
       "    </tr>\n",
       "    <tr>\n",
       "      <th>control</th>\n",
       "      <td>[govern, senat, republican, peopl, gun]</td>\n",
       "      <td>[like, #, peopl, control, gun]</td>\n",
       "    </tr>\n",
       "    <tr>\n",
       "      <th>abort</th>\n",
       "      <td>[gun, like, peopl, abort, right]</td>\n",
       "      <td>[peopl, like, babi, abort, #]</td>\n",
       "    </tr>\n",
       "    <tr>\n",
       "      <th>dnc</th>\n",
       "      <td>[primari, trump, like, candid, berni]</td>\n",
       "      <td>[remov, trump, candid, like, #]</td>\n",
       "    </tr>\n",
       "    <tr>\n",
       "      <th>biden</th>\n",
       "      <td>[warren, like, biden, joe, trump]</td>\n",
       "      <td>[like, biden, trump, #, joe]</td>\n",
       "    </tr>\n",
       "    <tr>\n",
       "      <th>sander</th>\n",
       "      <td>[like, biden, support, berni, warren]</td>\n",
       "      <td>[biden, like, warren, #, berni]</td>\n",
       "    </tr>\n",
       "    <tr>\n",
       "      <th>neighbor</th>\n",
       "      <td>[state, friend, love, peopl, like]</td>\n",
       "      <td>[love, peopl, friend, like, #]</td>\n",
       "    </tr>\n",
       "    <tr>\n",
       "      <th>choic</th>\n",
       "      <td>[biden, like, second, peopl, vote]</td>\n",
       "      <td>[dont, good, like, peopl, #]</td>\n",
       "    </tr>\n",
       "  </tbody>\n",
       "</table>\n",
       "</div>"
      ],
      "text/plain": [
       "                       cooccurring_words_politics  \\\n",
       "word                                                \n",
       "patriot       [peopl, trump, like, american, act]   \n",
       "maga              [like, peopl, wear, trump, hat]   \n",
       "melania         [think, look, like, remov, trump]   \n",
       "american    [nativ, like, american, trump, peopl]   \n",
       "flag            [trump, flag, confeder, law, red]   \n",
       "control   [govern, senat, republican, peopl, gun]   \n",
       "abort            [gun, like, peopl, abort, right]   \n",
       "dnc         [primari, trump, like, candid, berni]   \n",
       "biden           [warren, like, biden, joe, trump]   \n",
       "sander      [like, biden, support, berni, warren]   \n",
       "neighbor       [state, friend, love, peopl, like]   \n",
       "choic          [biden, like, second, peopl, vote]   \n",
       "\n",
       "                 cooccurring_words_The_Donald  \n",
       "word                                           \n",
       "patriot           [coat, god, love, #, brick]  \n",
       "maga           [content, wear, trump, #, hat]  \n",
       "melania         [delet, #, like, look, trump]  \n",
       "american  [citizen, like, american, peopl, #]  \n",
       "flag            [#, flag, american, law, red]  \n",
       "control        [like, #, peopl, control, gun]  \n",
       "abort           [peopl, like, babi, abort, #]  \n",
       "dnc           [remov, trump, candid, like, #]  \n",
       "biden            [like, biden, trump, #, joe]  \n",
       "sander        [biden, like, warren, #, berni]  \n",
       "neighbor       [love, peopl, friend, like, #]  \n",
       "choic            [dont, good, like, peopl, #]  "
      ]
     },
     "execution_count": 14,
     "metadata": {},
     "output_type": "execute_result"
    }
   ],
   "source": [
    "df_politics, df_donald, joined = compare(\"politics\", \"The_Donald\", \"stemmed-\", \"stemmed-\")\n",
    "plot_comparative(joined, ['patriot', 'maga', 'melania', 'american', 'flag', 'dnc', 'sander', 'biden', 'choic', 'abort', 'control',  'neighbor'])"
   ]
  },
  {
   "cell_type": "markdown",
   "metadata": {},
   "source": [
    "Once again we observe clear differences in sentiment values between the two communities. Using the plots, we are able to view related communities, we can identify biases in opinion by observing the difference in sentiment values. We observe:\n",
    "\n",
    "* Patriotic words, like *patriot*, *american* and *flag* are more positive in r/The_Donald, suggesting a bias towards nationalistic values.\n",
    "* Words related to the Trump Presidency, e.g. *melania* and *maga* are more positive in r/The_Donald.\n",
    "* Words relating to politically devisive issues, such as *control* (co-occurring often with gun), *choic* or *abort* seem to be more positive in r/politics.\n",
    "* Names of democratic presidential candiates, such as *biden* and *sander* have a more positive sentiment in r/politics.\n",
    "\n",
    "These sentiment values indicate a rather strong difference in political orientation of the two communities; r/politics seems to be more left-leaning, and r/The_Donald seems to be more right-leaning.\n",
    "\n",
    "# Gender Perception Analysis\n",
    "While the paper focusses on generating positive and negative sentiment scores for words, we observe that by replacing the seed words, we can obtain a score along any binary scale that we can define clearly using seed words.\n",
    "\n",
    "To investigate this idea further, choose a new set of seed words as follows:"
   ]
  },
  {
   "cell_type": "code",
   "execution_count": 15,
   "metadata": {},
   "outputs": [
    {
     "name": "stdout",
     "output_type": "stream",
     "text": [
      "Positive: ['man', 'male', 'boy', 'gentleman', 'mr', 'masculine', 'dad', 'father', 'brother', 'son', 'guy']\n",
      "Negative: ['female', 'woman', 'girl', 'lady', 'chick', 'mom', 'sister', 'mother', 'feminine', 'daughter', 'ms', 'mrs', 'miss']\n"
     ]
    }
   ],
   "source": [
    "from socialsent.seeds import gender_seeds\n",
    "print(\"Positive:\", gender_seeds()[0])\n",
    "print(\"Negative:\", gender_seeds()[1])"
   ]
  },
  {
   "cell_type": "markdown",
   "metadata": {},
   "source": [
    "Using these seed words, words similar to the male seed words should receive a positive score and words similar to female seed words should receive a negative score. We test this hypothesis by showing the top 10 female and top 10 male words, trained on comments from r/AskReddit, a community dedicated to fairly casual and general discussion of various user-asked questions."
   ]
  },
  {
   "cell_type": "code",
   "execution_count": 16,
   "metadata": {},
   "outputs": [
    {
     "data": {
      "text/html": [
       "<div>\n",
       "<style scoped>\n",
       "    .dataframe tbody tr th:only-of-type {\n",
       "        vertical-align: middle;\n",
       "    }\n",
       "\n",
       "    .dataframe tbody tr th {\n",
       "        vertical-align: top;\n",
       "    }\n",
       "\n",
       "    .dataframe thead th {\n",
       "        text-align: right;\n",
       "    }\n",
       "</style>\n",
       "<table border=\"1\" class=\"dataframe\">\n",
       "  <thead>\n",
       "    <tr style=\"text-align: right;\">\n",
       "      <th></th>\n",
       "      <th>mean</th>\n",
       "      <th>std</th>\n",
       "    </tr>\n",
       "    <tr>\n",
       "      <th>word</th>\n",
       "      <th></th>\n",
       "      <th></th>\n",
       "    </tr>\n",
       "  </thead>\n",
       "  <tbody>\n",
       "    <tr>\n",
       "      <th>sir</th>\n",
       "      <td>0.260473</td>\n",
       "      <td>0.163642</td>\n",
       "    </tr>\n",
       "    <tr>\n",
       "      <th>iron</th>\n",
       "      <td>0.237754</td>\n",
       "      <td>0.146164</td>\n",
       "    </tr>\n",
       "    <tr>\n",
       "      <th>look</th>\n",
       "      <td>0.228424</td>\n",
       "      <td>0.199533</td>\n",
       "    </tr>\n",
       "    <tr>\n",
       "      <th>struck</th>\n",
       "      <td>0.193954</td>\n",
       "      <td>0.120133</td>\n",
       "    </tr>\n",
       "    <tr>\n",
       "      <th>random</th>\n",
       "      <td>0.176451</td>\n",
       "      <td>0.157739</td>\n",
       "    </tr>\n",
       "    <tr>\n",
       "      <th>littl</th>\n",
       "      <td>0.162545</td>\n",
       "      <td>0.130508</td>\n",
       "    </tr>\n",
       "    <tr>\n",
       "      <th>dude</th>\n",
       "      <td>0.161555</td>\n",
       "      <td>0.204176</td>\n",
       "    </tr>\n",
       "    <tr>\n",
       "      <th>handsom</th>\n",
       "      <td>0.157481</td>\n",
       "      <td>0.140095</td>\n",
       "    </tr>\n",
       "    <tr>\n",
       "      <th>delight</th>\n",
       "      <td>0.155183</td>\n",
       "      <td>0.134994</td>\n",
       "    </tr>\n",
       "    <tr>\n",
       "      <th>he</th>\n",
       "      <td>0.153532</td>\n",
       "      <td>0.131328</td>\n",
       "    </tr>\n",
       "    <tr>\n",
       "      <th>hes</th>\n",
       "      <td>0.148122</td>\n",
       "      <td>0.133208</td>\n",
       "    </tr>\n",
       "    <tr>\n",
       "      <th>nick</th>\n",
       "      <td>0.140633</td>\n",
       "      <td>0.175618</td>\n",
       "    </tr>\n",
       "    <tr>\n",
       "      <th>greet</th>\n",
       "      <td>0.137112</td>\n",
       "      <td>0.107103</td>\n",
       "    </tr>\n",
       "    <tr>\n",
       "      <th>appar</th>\n",
       "      <td>0.136656</td>\n",
       "      <td>0.142525</td>\n",
       "    </tr>\n",
       "    <tr>\n",
       "      <th>roger</th>\n",
       "      <td>0.135239</td>\n",
       "      <td>0.207988</td>\n",
       "    </tr>\n",
       "    <tr>\n",
       "      <th>lee</th>\n",
       "      <td>0.134934</td>\n",
       "      <td>0.189971</td>\n",
       "    </tr>\n",
       "    <tr>\n",
       "      <th>steve</th>\n",
       "      <td>0.134862</td>\n",
       "      <td>0.201954</td>\n",
       "    </tr>\n",
       "    <tr>\n",
       "      <th>greg</th>\n",
       "      <td>0.132534</td>\n",
       "      <td>0.160683</td>\n",
       "    </tr>\n",
       "    <tr>\n",
       "      <th>jeff</th>\n",
       "      <td>0.132115</td>\n",
       "      <td>0.176445</td>\n",
       "    </tr>\n",
       "    <tr>\n",
       "      <th>patrick</th>\n",
       "      <td>0.129893</td>\n",
       "      <td>0.178255</td>\n",
       "    </tr>\n",
       "  </tbody>\n",
       "</table>\n",
       "</div>"
      ],
      "text/plain": [
       "             mean       std\n",
       "word                       \n",
       "sir      0.260473  0.163642\n",
       "iron     0.237754  0.146164\n",
       "look     0.228424  0.199533\n",
       "struck   0.193954  0.120133\n",
       "random   0.176451  0.157739\n",
       "littl    0.162545  0.130508\n",
       "dude     0.161555  0.204176\n",
       "handsom  0.157481  0.140095\n",
       "delight  0.155183  0.134994\n",
       "he       0.153532  0.131328\n",
       "hes      0.148122  0.133208\n",
       "nick     0.140633  0.175618\n",
       "greet    0.137112  0.107103\n",
       "appar    0.136656  0.142525\n",
       "roger    0.135239  0.207988\n",
       "lee      0.134934  0.189971\n",
       "steve    0.134862  0.201954\n",
       "greg     0.132534  0.160683\n",
       "jeff     0.132115  0.176445\n",
       "patrick  0.129893  0.178255"
      ]
     },
     "execution_count": 16,
     "metadata": {},
     "output_type": "execute_result"
    }
   ],
   "source": [
    "# top 10 male words\n",
    "load_df(\"AskReddit\", \"gender-stemmed-\", counts=False).head(20)"
   ]
  },
  {
   "cell_type": "code",
   "execution_count": 17,
   "metadata": {},
   "outputs": [
    {
     "data": {
      "text/html": [
       "<div>\n",
       "<style scoped>\n",
       "    .dataframe tbody tr th:only-of-type {\n",
       "        vertical-align: middle;\n",
       "    }\n",
       "\n",
       "    .dataframe tbody tr th {\n",
       "        vertical-align: top;\n",
       "    }\n",
       "\n",
       "    .dataframe thead th {\n",
       "        text-align: right;\n",
       "    }\n",
       "</style>\n",
       "<table border=\"1\" class=\"dataframe\">\n",
       "  <thead>\n",
       "    <tr style=\"text-align: right;\">\n",
       "      <th></th>\n",
       "      <th>mean</th>\n",
       "      <th>std</th>\n",
       "    </tr>\n",
       "    <tr>\n",
       "      <th>word</th>\n",
       "      <th></th>\n",
       "      <th></th>\n",
       "    </tr>\n",
       "  </thead>\n",
       "  <tbody>\n",
       "    <tr>\n",
       "      <th>slut</th>\n",
       "      <td>-0.143040</td>\n",
       "      <td>0.085962</td>\n",
       "    </tr>\n",
       "    <tr>\n",
       "      <th>makeup</th>\n",
       "      <td>-0.145589</td>\n",
       "      <td>0.102313</td>\n",
       "    </tr>\n",
       "    <tr>\n",
       "      <th>tit</th>\n",
       "      <td>-0.150717</td>\n",
       "      <td>0.111045</td>\n",
       "    </tr>\n",
       "    <tr>\n",
       "      <th>ew</th>\n",
       "      <td>-0.152343</td>\n",
       "      <td>0.151459</td>\n",
       "    </tr>\n",
       "    <tr>\n",
       "      <th>forgotten</th>\n",
       "      <td>-0.154705</td>\n",
       "      <td>0.174830</td>\n",
       "    </tr>\n",
       "    <tr>\n",
       "      <th>everi</th>\n",
       "      <td>-0.162922</td>\n",
       "      <td>0.181884</td>\n",
       "    </tr>\n",
       "    <tr>\n",
       "      <th>titti</th>\n",
       "      <td>-0.170189</td>\n",
       "      <td>0.113387</td>\n",
       "    </tr>\n",
       "    <tr>\n",
       "      <th>blond</th>\n",
       "      <td>-0.171805</td>\n",
       "      <td>0.138602</td>\n",
       "    </tr>\n",
       "    <tr>\n",
       "      <th>taken</th>\n",
       "      <td>-0.175662</td>\n",
       "      <td>0.185018</td>\n",
       "    </tr>\n",
       "    <tr>\n",
       "      <th>wheelchair</th>\n",
       "      <td>-0.176316</td>\n",
       "      <td>0.101807</td>\n",
       "    </tr>\n",
       "    <tr>\n",
       "      <th>bare</th>\n",
       "      <td>-0.177917</td>\n",
       "      <td>0.205793</td>\n",
       "    </tr>\n",
       "    <tr>\n",
       "      <th>forgot</th>\n",
       "      <td>-0.188759</td>\n",
       "      <td>0.188265</td>\n",
       "    </tr>\n",
       "    <tr>\n",
       "      <th>wendi</th>\n",
       "      <td>-0.192324</td>\n",
       "      <td>0.148830</td>\n",
       "    </tr>\n",
       "    <tr>\n",
       "      <th>monopoli</th>\n",
       "      <td>-0.192557</td>\n",
       "      <td>0.169578</td>\n",
       "    </tr>\n",
       "    <tr>\n",
       "      <th>rememb</th>\n",
       "      <td>-0.215021</td>\n",
       "      <td>0.229601</td>\n",
       "    </tr>\n",
       "    <tr>\n",
       "      <th>waitress</th>\n",
       "      <td>-0.218298</td>\n",
       "      <td>0.101123</td>\n",
       "    </tr>\n",
       "    <tr>\n",
       "      <th>sexi</th>\n",
       "      <td>-0.221846</td>\n",
       "      <td>0.061475</td>\n",
       "    </tr>\n",
       "    <tr>\n",
       "      <th>aisl</th>\n",
       "      <td>-0.222616</td>\n",
       "      <td>0.108497</td>\n",
       "    </tr>\n",
       "    <tr>\n",
       "      <th>cashier</th>\n",
       "      <td>-0.232672</td>\n",
       "      <td>0.109004</td>\n",
       "    </tr>\n",
       "    <tr>\n",
       "      <th>lucki</th>\n",
       "      <td>-0.245844</td>\n",
       "      <td>0.241188</td>\n",
       "    </tr>\n",
       "  </tbody>\n",
       "</table>\n",
       "</div>"
      ],
      "text/plain": [
       "                mean       std\n",
       "word                          \n",
       "slut       -0.143040  0.085962\n",
       "makeup     -0.145589  0.102313\n",
       "tit        -0.150717  0.111045\n",
       "ew         -0.152343  0.151459\n",
       "forgotten  -0.154705  0.174830\n",
       "everi      -0.162922  0.181884\n",
       "titti      -0.170189  0.113387\n",
       "blond      -0.171805  0.138602\n",
       "taken      -0.175662  0.185018\n",
       "wheelchair -0.176316  0.101807\n",
       "bare       -0.177917  0.205793\n",
       "forgot     -0.188759  0.188265\n",
       "wendi      -0.192324  0.148830\n",
       "monopoli   -0.192557  0.169578\n",
       "rememb     -0.215021  0.229601\n",
       "waitress   -0.218298  0.101123\n",
       "sexi       -0.221846  0.061475\n",
       "aisl       -0.222616  0.108497\n",
       "cashier    -0.232672  0.109004\n",
       "lucki      -0.245844  0.241188"
      ]
     },
     "execution_count": 17,
     "metadata": {},
     "output_type": "execute_result"
    }
   ],
   "source": [
    "# top 10 female words\n",
    "load_df(\"AskReddit\", \"gender-stemmed-\", counts=False).tail(20)"
   ]
  },
  {
   "cell_type": "markdown",
   "metadata": {},
   "source": [
    "Qualitatively, the generated scores do seem to support the hypothesis.\n",
    "\n",
    "To take the analysis a step further, we now generate both postive and negative sentiment scores using the original seed words, as well as male-female scores for both r/AskReddit and r/The_Donald. By producing a scatter plot of these two values, we aim to investigate how genders are percieved across the two communities. To this end, we plot the 60 most male and 60 most female words of each community."
   ]
  },
  {
   "cell_type": "code",
   "execution_count": 18,
   "metadata": {},
   "outputs": [],
   "source": [
    "gender_ask = load_df(\"AskReddit\", \"gender-stemmed-\", counts=False)\n",
    "gender_donald = load_df(\"The_Donald\", \"gender-stemmed-\", counts=False)\n",
    "posneg_ask = load_df(\"AskReddit\", \"stemmed-\", counts=False)\n",
    "posneg_donald = load_df(\"The_Donald\", \"stemmed-\", counts=False)\n",
    "\n",
    "askreddit_xy = gender_ask.merge(posneg_ask, how='inner', on='word', suffixes=(\"_gender\", \"_posneg\")).sort_values(by=[\"mean_gender\"])\n",
    "donald_xy = gender_donald.merge(posneg_donald, how='inner', on='word', suffixes=(\"_gender\", \"_posneg\")).sort_values(by=[\"mean_gender\"])"
   ]
  },
  {
   "cell_type": "code",
   "execution_count": 21,
   "metadata": {},
   "outputs": [
    {
     "data": {
      "text/plain": [
       "Text(0, 0.5, 'Sentiment')"
      ]
     },
     "execution_count": 21,
     "metadata": {},
     "output_type": "execute_result"
    },
    {
     "data": {
      "image/png": "[encoded data removed]",
      "text/plain": [
       "<Figure size 576x396 with 1 Axes>"
      ]
     },
     "metadata": {},
     "output_type": "display_data"
    }
   ],
   "source": [
    "plt.title(\"Gender Perception in r/AskReddit\")\n",
    "plt.scatter(askreddit_xy['mean_gender'].head(60).values, askreddit_xy['mean_posneg'].head(60).values, s=10, label='female')\n",
    "plt.scatter(askreddit_xy['mean_gender'].tail(60).values, askreddit_xy['mean_posneg'].tail(60).values, s=10, label='male')\n",
    "plt.legend()\n",
    "plt.xlabel(\"Masculinity\")\n",
    "plt.ylabel(\"Sentiment\")"
   ]
  },
  {
   "cell_type": "code",
   "execution_count": 22,
   "metadata": {},
   "outputs": [
    {
     "data": {
      "text/plain": [
       "<matplotlib.legend.Legend at 0x7f8dc1cfdfa0>"
      ]
     },
     "execution_count": 22,
     "metadata": {},
     "output_type": "execute_result"
    },
    {
     "data": {
      "image/png": "[encoded data removed]",
      "text/plain": [
       "<Figure size 576x396 with 1 Axes>"
      ]
     },
     "metadata": {},
     "output_type": "display_data"
    }
   ],
   "source": [
    "plt.title(\"Gender Perception in r/The_Donald\")\n",
    "plt.scatter(donald_xy['mean_gender'].head(60).values, donald_xy['mean_posneg'].head(60).values, s=10, label='female')\n",
    "plt.scatter(donald_xy['mean_gender'].tail(60).values, donald_xy['mean_posneg'].tail(60).values, s=10, label='male')\n",
    "plt.xlabel(\"Masculinity\")\n",
    "plt.ylabel(\"Sentiment\")\n",
    "plt.legend()"
   ]
  },
  {
   "cell_type": "markdown",
   "metadata": {},
   "source": [
    "A comparision of the plots seems to suggest that gender perception of females relative to the perception of males is more positive in r/The_Donald than in r/AskReddit.\n",
    "\n",
    "# Comparison of Polarities Across Comments with Different Scores\n",
    "\n",
    "On reddit, every comment is associated with a score. Comments with high scores are more likely to be displayed and tend to reflect the opinions of the subreddit's users: Users can up- or downvote comments depending if they like them, which in- /decreases the comments score by 1. Comments that many users agree with obtain very high scores, while comments representing opinions that are unpopular among the subreddit's users receive low/negative scores.\n",
    "\n",
    "Therefore, the score of comments lends itself to an analysis of the kind of comments a subreddit's community approves and disapproves of. We use SocialSent to compare the sentiment values of words when used in comments of different popularity. We analyze the subreddit \"politics\", and try to determine political bias and to gain insight on the community.\n",
    "\n",
    "## Methodology \n",
    "Our politics corpus contains all 3,845,270 comments that were posted in July, August, and September 2019 on the subreddit \"politics\". We split our corpus into four roughly equal sized sets: Comments with high negative scores, comments with scores lower than the starting score (which is 1), and comments with scores in range [1, 10), [10, 50), and 50 and above.\n",
    "\n",
    "We use the twitter seedwords given in the paper and perfom stemming on our corpus to obtain better results. To efficiently calculate the polarity scores, we rewrote the code to generate the dictionaries for all 4 sets in one pass over the data. This enables a ~3x speedup reducing runtime from expected 2h to only 40 min on a laptop. We train word embeddings on every set seperately and use them to generate polarity scores for common words, by performing label propagation for each of the sets.\n",
    "\n",
    "We normalize the polarity scores of each set by de-meaning. Then, we compare the trends of polarities of interesting words across the different sets and analyze the results."
   ]
  },
  {
   "cell_type": "markdown",
   "metadata": {},
   "source": [
    "We plot the histogram of the comment's scores in order to select a balanced partitioning"
   ]
  },
  {
   "cell_type": "code",
   "execution_count": 10,
   "metadata": {},
   "outputs": [],
   "source": [
    "def score_histogram(subreddit):\n",
    "    path = os.path.join('data', subreddit, 'outputs.json')\n",
    "    with open(path) as f:\n",
    "        total = sum(1 for line in tqdm(f))\n",
    "    with open(path) as f:\n",
    "        scores = [json.loads(line)['score'] for line in tqdm(f, total=total)]\n",
    "    plt.hist(scores, log=True)\n",
    "    return scores"
   ]
  },
  {
   "cell_type": "code",
   "execution_count": 11,
   "metadata": {
    "scrolled": false
   },
   "outputs": [
    {
     "data": {
      "application/vnd.jupyter.widget-view+json": {
       "model_id": "628fbfca198243ee8991f2d8c6a84ffd",
       "version_major": 2,
       "version_minor": 0
      },
      "text/plain": [
       "HBox(children=(FloatProgress(value=1.0, bar_style='info', max=1.0), HTML(value='')))"
      ]
     },
     "metadata": {},
     "output_type": "display_data"
    },
    {
     "name": "stdout",
     "output_type": "stream",
     "text": [
      "\n"
     ]
    },
    {
     "data": {
      "application/vnd.jupyter.widget-view+json": {
       "model_id": "b77b79e3f1774f76955237f4374caae8",
       "version_major": 2,
       "version_minor": 0
      },
      "text/plain": [
       "HBox(children=(FloatProgress(value=0.0, max=3845270.0), HTML(value='')))"
      ]
     },
     "metadata": {},
     "output_type": "display_data"
    },
    {
     "name": "stdout",
     "output_type": "stream",
     "text": [
      "\n"
     ]
    },
    {
     "name": "stderr",
     "output_type": "stream",
     "text": [
      "  1%|          | 29019/3845270 [06:01<13:12:37, 80.25it/s]\n"
     ]
    },
    {
     "data": {
      "image/png": "[encoded data removed]",
      "text/plain": [
       "<Figure size 432x288 with 1 Axes>"
      ]
     },
     "metadata": {
      "needs_background": "light"
     },
     "output_type": "display_data"
    }
   ],
   "source": [
    "scores = score_histogram('politics')"
   ]
  },
  {
   "cell_type": "markdown",
   "metadata": {},
   "source": [
    "We decide on intervals for partioning the data and make sure each partition contains roughly the same number of comments"
   ]
  },
  {
   "cell_type": "code",
   "execution_count": 18,
   "metadata": {},
   "outputs": [],
   "source": [
    "intervals_politics = [(None, -5), (-5, 1), (1, 10), (10, 50), (50, None)]"
   ]
  },
  {
   "cell_type": "code",
   "execution_count": 19,
   "metadata": {
    "scrolled": true
   },
   "outputs": [
    {
     "name": "stdout",
     "output_type": "stream",
     "text": [
      "112505\n",
      "418810\n",
      "2777548\n",
      "435407\n",
      "101000\n"
     ]
    }
   ],
   "source": [
    "for low, up in intervals_politics:\n",
    "    if low is None:\n",
    "        low = -100000\n",
    "    if up is None:\n",
    "        up = 1000000\n",
    "    print(sum(low <= s < up for s in scores))"
   ]
  },
  {
   "cell_type": "markdown",
   "metadata": {},
   "source": [
    "The polarities are computed for each set. This takes around 40 minutes. The code for computing the polarities is available in our github repository. We stem the words to get better results (as mentioned earlier)."
   ]
  },
  {
   "cell_type": "code",
   "execution_count": 20,
   "metadata": {
    "collapsed": true
   },
   "outputs": [
    {
     "name": "stdout",
     "output_type": "stream",
     "text": [
      "Interval:  (None, -5)\n",
      "Getting and writing dictionary...\n"
     ]
    },
    {
     "name": "stderr",
     "output_type": "stream",
     "text": [
      "100%|██████████| 3845270/3845270 [14:26<00:00, 4436.73it/s]\n",
      "  1%|          | 1025/112505 [00:00<00:10, 10245.93it/s]"
     ]
    },
    {
     "name": "stdout",
     "output_type": "stream",
     "text": [
      "Generating word co-occurrences...\n"
     ]
    },
    {
     "name": "stderr",
     "output_type": "stream",
     "text": [
      "100%|██████████| 112505/112505 [00:09<00:00, 11330.80it/s]\n"
     ]
    },
    {
     "name": "stdout",
     "output_type": "stream",
     "text": [
      "Generating PPMI vectors...\n",
      "Generating SVD vectors...\n",
      "Factorising 2221026 with shape (2152, 2152)\n"
     ]
    },
    {
     "name": "stderr",
     "output_type": "stream",
     "text": [
      "\r",
      "  0%|          | 0/30 [00:00<?, ?it/s]"
     ]
    },
    {
     "name": "stdout",
     "output_type": "stream",
     "text": [
      "Create representation...\n",
      "Get sub embedding...\n",
      "Bootstrapping...\n",
      "using seeds ['correct', 'happi', 'awesom', 'best', 'fantast', 'amaz', 'love', 'nice'] ['sad', 'terribl', 'hate', 'nasti', 'wrong', 'horribl', 'aw', 'worst']\n"
     ]
    },
    {
     "name": "stderr",
     "output_type": "stream",
     "text": [
      "100%|██████████| 30/30 [00:21<00:00,  1.40it/s]\n"
     ]
    },
    {
     "name": "stdout",
     "output_type": "stream",
     "text": [
      "Interval:  (-5, 1)\n",
      "Loading preexisting corpus...\n"
     ]
    },
    {
     "name": "stderr",
     "output_type": "stream",
     "text": [
      "  0%|          | 1128/418810 [00:00<00:37, 11275.66it/s]"
     ]
    },
    {
     "name": "stdout",
     "output_type": "stream",
     "text": [
      "Generating word co-occurrences...\n"
     ]
    },
    {
     "name": "stderr",
     "output_type": "stream",
     "text": [
      "100%|██████████| 418810/418810 [00:44<00:00, 9412.32it/s] \n"
     ]
    },
    {
     "name": "stdout",
     "output_type": "stream",
     "text": [
      "Generating PPMI vectors...\n",
      "Generating SVD vectors...\n",
      "Factorising 7084436 with shape (4678, 4678)\n"
     ]
    },
    {
     "name": "stderr",
     "output_type": "stream",
     "text": [
      "\r",
      "  0%|          | 0/30 [00:00<?, ?it/s]"
     ]
    },
    {
     "name": "stdout",
     "output_type": "stream",
     "text": [
      "Create representation...\n",
      "Get sub embedding...\n",
      "Bootstrapping...\n",
      "using seeds ['correct', 'happi', 'awesom', 'best', 'fantast', 'amaz', 'love', 'nice'] ['sad', 'terribl', 'hate', 'nasti', 'wrong', 'horribl', 'aw', 'worst']\n"
     ]
    },
    {
     "name": "stderr",
     "output_type": "stream",
     "text": [
      "100%|██████████| 30/30 [02:22<00:00,  4.75s/it]\n"
     ]
    },
    {
     "name": "stdout",
     "output_type": "stream",
     "text": [
      "Interval:  (1, 10)\n",
      "Loading preexisting corpus...\n"
     ]
    },
    {
     "name": "stderr",
     "output_type": "stream",
     "text": [
      "  0%|          | 1356/2777548 [00:00<03:24, 13554.10it/s]"
     ]
    },
    {
     "name": "stdout",
     "output_type": "stream",
     "text": [
      "Generating word co-occurrences...\n"
     ]
    },
    {
     "name": "stderr",
     "output_type": "stream",
     "text": [
      "100%|██████████| 2777548/2777548 [04:40<00:00, 9905.32it/s] \n"
     ]
    },
    {
     "name": "stdout",
     "output_type": "stream",
     "text": [
      "Generating PPMI vectors...\n",
      "Generating SVD vectors...\n",
      "Factorising 25153393 with shape (11331, 11331)\n"
     ]
    },
    {
     "name": "stderr",
     "output_type": "stream",
     "text": [
      "\r",
      "  0%|          | 0/30 [00:00<?, ?it/s]"
     ]
    },
    {
     "name": "stdout",
     "output_type": "stream",
     "text": [
      "Create representation...\n",
      "Get sub embedding...\n",
      "Bootstrapping...\n",
      "using seeds ['correct', 'happi', 'awesom', 'best', 'fantast', 'amaz', 'love', 'nice'] ['sad', 'terribl', 'hate', 'nasti', 'wrong', 'horribl', 'aw', 'worst']\n"
     ]
    },
    {
     "name": "stderr",
     "output_type": "stream",
     "text": [
      "100%|██████████| 30/30 [02:50<00:00,  5.69s/it]\n"
     ]
    },
    {
     "name": "stdout",
     "output_type": "stream",
     "text": [
      "Interval:  (10, 50)\n",
      "Loading preexisting corpus...\n"
     ]
    },
    {
     "name": "stderr",
     "output_type": "stream",
     "text": [
      "  0%|          | 1074/435407 [00:00<00:40, 10739.32it/s]"
     ]
    },
    {
     "name": "stdout",
     "output_type": "stream",
     "text": [
      "Generating word co-occurrences...\n"
     ]
    },
    {
     "name": "stderr",
     "output_type": "stream",
     "text": [
      "100%|██████████| 435407/435407 [00:47<00:00, 9205.52it/s] \n"
     ]
    },
    {
     "name": "stdout",
     "output_type": "stream",
     "text": [
      "Generating PPMI vectors...\n",
      "Generating SVD vectors...\n",
      "Factorising 8357990 with shape (5231, 5231)\n"
     ]
    },
    {
     "name": "stderr",
     "output_type": "stream",
     "text": [
      "\r",
      "  0%|          | 0/30 [00:00<?, ?it/s]"
     ]
    },
    {
     "name": "stdout",
     "output_type": "stream",
     "text": [
      "Create representation...\n",
      "Get sub embedding...\n",
      "Bootstrapping...\n",
      "using seeds ['correct', 'happi', 'awesom', 'best', 'fantast', 'amaz', 'love', 'nice'] ['sad', 'terribl', 'hate', 'nasti', 'wrong', 'horribl', 'aw', 'worst']\n"
     ]
    },
    {
     "name": "stderr",
     "output_type": "stream",
     "text": [
      "100%|██████████| 30/30 [02:49<00:00,  5.64s/it]\n"
     ]
    },
    {
     "name": "stdout",
     "output_type": "stream",
     "text": [
      "Interval:  (50, None)\n",
      "Loading preexisting corpus...\n"
     ]
    },
    {
     "name": "stderr",
     "output_type": "stream",
     "text": [
      "  1%|          | 1005/101000 [00:00<00:09, 10039.19it/s]"
     ]
    },
    {
     "name": "stdout",
     "output_type": "stream",
     "text": [
      "Generating word co-occurrences...\n"
     ]
    },
    {
     "name": "stderr",
     "output_type": "stream",
     "text": [
      "100%|██████████| 101000/101000 [00:11<00:00, 9179.74it/s]\n"
     ]
    },
    {
     "name": "stdout",
     "output_type": "stream",
     "text": [
      "Generating PPMI vectors...\n",
      "Generating SVD vectors...\n",
      "Factorising 2803903 with shape (2526, 2526)\n"
     ]
    },
    {
     "name": "stderr",
     "output_type": "stream",
     "text": [
      "\r",
      "  0%|          | 0/30 [00:00<?, ?it/s]"
     ]
    },
    {
     "name": "stdout",
     "output_type": "stream",
     "text": [
      "Create representation...\n",
      "Get sub embedding...\n",
      "Bootstrapping...\n",
      "using seeds ['correct', 'happi', 'awesom', 'best', 'fantast', 'amaz', 'love', 'nice'] ['sad', 'terribl', 'hate', 'nasti', 'wrong', 'horribl', 'aw', 'worst']\n"
     ]
    },
    {
     "name": "stderr",
     "output_type": "stream",
     "text": [
      "100%|██████████| 30/30 [00:30<00:00,  1.03s/it]\n"
     ]
    }
   ],
   "source": [
    "for iv in intervals_politics:\n",
    "    print('Interval: ', iv)\n",
    "    compute_polarities('politics', iv, intervals_politics, True)"
   ]
  },
  {
   "cell_type": "markdown",
   "metadata": {},
   "source": [
    "We load the data for all partitions, normalize it by subtracting the mean, and join the tables to obtain single dataframe indexed by the word. "
   ]
  },
  {
   "cell_type": "code",
   "execution_count": 255,
   "metadata": {},
   "outputs": [],
   "source": [
    "df = load_df('politics', 'stemmed-scores-nolim--5-', scale=True)\n",
    "df = df.rename(columns={\"mean\": \"mean_0\", \"std\": \"std_0\", \"cooccurring_words\": \"cooccurring_words_0\"}) \n",
    "\n",
    "for i, iv in enumerate(intervals_politics[1:]):\n",
    "    prefix = ('nolim' if iv[0] is None else str(iv[0])) + '-' + ('nolim' if iv[1] is None else str(iv[1])) \n",
    "    prefix = 'stemmed-scores-' + prefix + '-'\n",
    "    \n",
    "    df_new = load_df('politics', prefix, scale=True)\n",
    "    df_new = df_new.rename(columns={\"mean\": \"mean_\"+str(i+1), \"std\": \"std_\"+str(i+1), \"cooccurring_words\": \"cooccurring_words_\"+str(i+1)}) \n",
    "    df = df.join(df_new, how='inner', rsuffix='', lsuffix='')"
   ]
  },
  {
   "cell_type": "code",
   "execution_count": 256,
   "metadata": {},
   "outputs": [
    {
     "data": {
      "text/plain": [
       "1997"
      ]
     },
     "execution_count": 256,
     "metadata": {},
     "output_type": "execute_result"
    }
   ],
   "source": [
    "len(df)"
   ]
  },
  {
   "cell_type": "markdown",
   "metadata": {},
   "source": [
    "For each of the 1997 words for which we obtained a polarity score for every partition, the dataframe contains the mean polarity value over all runs, the standard deviation, and the 5 words it co-occurred with most, for every partition."
   ]
  },
  {
   "cell_type": "code",
   "execution_count": 257,
   "metadata": {
    "scrolled": true
   },
   "outputs": [
    {
     "data": {
      "text/html": [
       "<div>\n",
       "<style scoped>\n",
       "    .dataframe tbody tr th:only-of-type {\n",
       "        vertical-align: middle;\n",
       "    }\n",
       "\n",
       "    .dataframe tbody tr th {\n",
       "        vertical-align: top;\n",
       "    }\n",
       "\n",
       "    .dataframe thead th {\n",
       "        text-align: right;\n",
       "    }\n",
       "</style>\n",
       "<table border=\"1\" class=\"dataframe\">\n",
       "  <thead>\n",
       "    <tr style=\"text-align: right;\">\n",
       "      <th></th>\n",
       "      <th>mean_0</th>\n",
       "      <th>std_0</th>\n",
       "      <th>cooccurring_words_0</th>\n",
       "      <th>mean_1</th>\n",
       "      <th>std_1</th>\n",
       "      <th>cooccurring_words_1</th>\n",
       "      <th>mean_2</th>\n",
       "      <th>std_2</th>\n",
       "      <th>cooccurring_words_2</th>\n",
       "      <th>mean_3</th>\n",
       "      <th>std_3</th>\n",
       "      <th>cooccurring_words_3</th>\n",
       "      <th>mean_4</th>\n",
       "      <th>std_4</th>\n",
       "      <th>cooccurring_words_4</th>\n",
       "    </tr>\n",
       "    <tr>\n",
       "      <th>word</th>\n",
       "      <th></th>\n",
       "      <th></th>\n",
       "      <th></th>\n",
       "      <th></th>\n",
       "      <th></th>\n",
       "      <th></th>\n",
       "      <th></th>\n",
       "      <th></th>\n",
       "      <th></th>\n",
       "      <th></th>\n",
       "      <th></th>\n",
       "      <th></th>\n",
       "      <th></th>\n",
       "      <th></th>\n",
       "      <th></th>\n",
       "    </tr>\n",
       "  </thead>\n",
       "  <tbody>\n",
       "    <tr>\n",
       "      <th>perfect</th>\n",
       "      <td>0.358279</td>\n",
       "      <td>0.151657</td>\n",
       "      <td>[like, fine, think, trump, peopl]</td>\n",
       "      <td>0.111127</td>\n",
       "      <td>0.335076</td>\n",
       "      <td>[like, trump, exampl, think, peopl]</td>\n",
       "      <td>0.166417</td>\n",
       "      <td>0.211580</td>\n",
       "      <td>[think, peopl, like, remov, trump]</td>\n",
       "      <td>0.316597</td>\n",
       "      <td>0.216021</td>\n",
       "      <td>[think, fine, peopl, like, trump]</td>\n",
       "      <td>0.222608</td>\n",
       "      <td>0.185969</td>\n",
       "      <td>[hes, peopl, like, fine, trump]</td>\n",
       "    </tr>\n",
       "    <tr>\n",
       "      <th>success</th>\n",
       "      <td>0.332649</td>\n",
       "      <td>0.139642</td>\n",
       "      <td>[remov, countri, democrat, trump, peopl]</td>\n",
       "      <td>0.038485</td>\n",
       "      <td>0.250937</td>\n",
       "      <td>[think, impeach, like, trump, peopl]</td>\n",
       "      <td>0.257735</td>\n",
       "      <td>0.211368</td>\n",
       "      <td>[think, remov, like, peopl, trump]</td>\n",
       "      <td>0.237277</td>\n",
       "      <td>0.285932</td>\n",
       "      <td>[busi, presid, like, peopl, trump]</td>\n",
       "      <td>0.027922</td>\n",
       "      <td>0.148431</td>\n",
       "      <td>[hes, peopl, like, presid, trump]</td>\n",
       "    </tr>\n",
       "    <tr>\n",
       "      <th>futur</th>\n",
       "      <td>0.310727</td>\n",
       "      <td>0.191233</td>\n",
       "      <td>[peopl, look, trump, presid, like]</td>\n",
       "      <td>0.180084</td>\n",
       "      <td>0.331138</td>\n",
       "      <td>[trump, presid, like, think, peopl]</td>\n",
       "      <td>0.223327</td>\n",
       "      <td>0.289862</td>\n",
       "      <td>[presid, remov, peopl, like, trump]</td>\n",
       "      <td>0.044174</td>\n",
       "      <td>0.268899</td>\n",
       "      <td>[think, presid, peopl, like, trump]</td>\n",
       "      <td>-0.022084</td>\n",
       "      <td>0.124236</td>\n",
       "      <td>[generat, like, peopl, presid, trump]</td>\n",
       "    </tr>\n",
       "    <tr>\n",
       "      <th>dick</th>\n",
       "      <td>0.304757</td>\n",
       "      <td>0.165711</td>\n",
       "      <td>[fuck, peopl, like, trump, suck]</td>\n",
       "      <td>0.008411</td>\n",
       "      <td>0.163275</td>\n",
       "      <td>[delet, dont, peopl, like, suck]</td>\n",
       "      <td>-0.036323</td>\n",
       "      <td>0.069771</td>\n",
       "      <td>[cheney, remov, trump, like, suck]</td>\n",
       "      <td>0.007880</td>\n",
       "      <td>0.144758</td>\n",
       "      <td>[fuck, cheney, like, suck, trump]</td>\n",
       "      <td>0.060287</td>\n",
       "      <td>0.094067</td>\n",
       "      <td>[right, gt, like, suck, trump]</td>\n",
       "    </tr>\n",
       "    <tr>\n",
       "      <th>daili</th>\n",
       "      <td>0.287656</td>\n",
       "      <td>0.201271</td>\n",
       "      <td>[delet, like, trump, peopl, basi]</td>\n",
       "      <td>-0.065677</td>\n",
       "      <td>0.145148</td>\n",
       "      <td>[live, like, trump, peopl, basi]</td>\n",
       "      <td>-0.091719</td>\n",
       "      <td>0.081350</td>\n",
       "      <td>[like, peopl, caller, trump, basi]</td>\n",
       "      <td>0.020427</td>\n",
       "      <td>0.149485</td>\n",
       "      <td>[like, peopl, trump, caller, basi]</td>\n",
       "      <td>0.183100</td>\n",
       "      <td>0.167044</td>\n",
       "      <td>[presid, like, news, trump, basi]</td>\n",
       "    </tr>\n",
       "  </tbody>\n",
       "</table>\n",
       "</div>"
      ],
      "text/plain": [
       "           mean_0     std_0                       cooccurring_words_0  \\\n",
       "word                                                                    \n",
       "perfect  0.358279  0.151657         [like, fine, think, trump, peopl]   \n",
       "success  0.332649  0.139642  [remov, countri, democrat, trump, peopl]   \n",
       "futur    0.310727  0.191233        [peopl, look, trump, presid, like]   \n",
       "dick     0.304757  0.165711          [fuck, peopl, like, trump, suck]   \n",
       "daili    0.287656  0.201271         [delet, like, trump, peopl, basi]   \n",
       "\n",
       "           mean_1     std_1                   cooccurring_words_1    mean_2  \\\n",
       "word                                                                          \n",
       "perfect  0.111127  0.335076   [like, trump, exampl, think, peopl]  0.166417   \n",
       "success  0.038485  0.250937  [think, impeach, like, trump, peopl]  0.257735   \n",
       "futur    0.180084  0.331138   [trump, presid, like, think, peopl]  0.223327   \n",
       "dick     0.008411  0.163275      [delet, dont, peopl, like, suck] -0.036323   \n",
       "daili   -0.065677  0.145148      [live, like, trump, peopl, basi] -0.091719   \n",
       "\n",
       "            std_2                  cooccurring_words_2    mean_3     std_3  \\\n",
       "word                                                                         \n",
       "perfect  0.211580   [think, peopl, like, remov, trump]  0.316597  0.216021   \n",
       "success  0.211368   [think, remov, like, peopl, trump]  0.237277  0.285932   \n",
       "futur    0.289862  [presid, remov, peopl, like, trump]  0.044174  0.268899   \n",
       "dick     0.069771   [cheney, remov, trump, like, suck]  0.007880  0.144758   \n",
       "daili    0.081350   [like, peopl, caller, trump, basi]  0.020427  0.149485   \n",
       "\n",
       "                         cooccurring_words_3    mean_4     std_4  \\\n",
       "word                                                               \n",
       "perfect    [think, fine, peopl, like, trump]  0.222608  0.185969   \n",
       "success   [busi, presid, like, peopl, trump]  0.027922  0.148431   \n",
       "futur    [think, presid, peopl, like, trump] -0.022084  0.124236   \n",
       "dick       [fuck, cheney, like, suck, trump]  0.060287  0.094067   \n",
       "daili     [like, peopl, trump, caller, basi]  0.183100  0.167044   \n",
       "\n",
       "                           cooccurring_words_4  \n",
       "word                                            \n",
       "perfect        [hes, peopl, like, fine, trump]  \n",
       "success      [hes, peopl, like, presid, trump]  \n",
       "futur    [generat, like, peopl, presid, trump]  \n",
       "dick            [right, gt, like, suck, trump]  \n",
       "daili        [presid, like, news, trump, basi]  "
      ]
     },
     "execution_count": 257,
     "metadata": {},
     "output_type": "execute_result"
    }
   ],
   "source": [
    "df.head()"
   ]
  },
  {
   "cell_type": "markdown",
   "metadata": {},
   "source": [
    "We plot a histogram of the polarity values for each partition and observe that they are similarly distributed. This suggests that it is reasonable to compare words' polarity values across the different distributions."
   ]
  },
  {
   "cell_type": "code",
   "execution_count": 258,
   "metadata": {
    "scrolled": true
   },
   "outputs": [
    {
     "data": {
      "image/png": "[encoded data removed]",
      "text/plain": [
       "<Figure size 144x144 with 1 Axes>"
      ]
     },
     "metadata": {},
     "output_type": "display_data"
    },
    {
     "data": {
      "image/png": "[encoded data removed]",
      "text/plain": [
       "<Figure size 144x144 with 1 Axes>"
      ]
     },
     "metadata": {},
     "output_type": "display_data"
    },
    {
     "data": {
      "image/png": "[encoded data removed]",
      "text/plain": [
       "<Figure size 144x144 with 1 Axes>"
      ]
     },
     "metadata": {},
     "output_type": "display_data"
    },
    {
     "data": {
      "image/png": "[encoded data removed]",
      "text/plain": [
       "<Figure size 144x144 with 1 Axes>"
      ]
     },
     "metadata": {},
     "output_type": "display_data"
    },
    {
     "data": {
      "image/png": "[encoded data removed]",
      "text/plain": [
       "<Figure size 144x144 with 1 Axes>"
      ]
     },
     "metadata": {},
     "output_type": "display_data"
    }
   ],
   "source": [
    "for i in range(5):\n",
    "    plt.figure(figsize=(2, 2))\n",
    "    plt.hist(df['mean_'+str(i)], log=True)\n",
    "    plt.title('histogram of polarity values for scores in ' + str(intervals_politics[i]))\n",
    "    plt.show()"
   ]
  },
  {
   "cell_type": "markdown",
   "metadata": {},
   "source": [
    "## Results"
   ]
  },
  {
   "cell_type": "markdown",
   "metadata": {},
   "source": [
    "To analyze political bias on the politics subreddit, we analyze the polarity values associated with names of both democrat and republican politicians. For each party, we choose two famous representatives: Donald Trump and Mike Pence for the republicans and Elizabeth Warren and Bernie Sanders for the democrats. We plot the polarity scores and their standard deviations over all runs. ($(-\\infty, -5), [-5, 1), [1, 10), [10, 50), [50, 100), [100, \\infty)$)\n"
   ]
  },
  {
   "cell_type": "code",
   "execution_count": 265,
   "metadata": {},
   "outputs": [
    {
     "data": {
      "text/plain": [
       "<matplotlib.legend.Legend at 0x7f3d58a23b50>"
      ]
     },
     "execution_count": 265,
     "metadata": {},
     "output_type": "execute_result"
    },
    {
     "data": {
      "image/png": "[encoded data removed]",
      "text/plain": [
       "<Figure size 576x396 with 1 Axes>"
      ]
     },
     "metadata": {},
     "output_type": "display_data"
    }
   ],
   "source": [
    "politicians = ['warren', 'berni', 'donald', 'penc']\n",
    "for p in politicians:\n",
    "    means = list(df.loc[p][['mean_'+str(i) for i in range(5)]])\n",
    "    stds = list(df.loc[p][['std_'+str(i) for i in range(5)]])\n",
    "    plt.errorbar(range(5), means, stds, marker='o', capsize=5, label=p)\n",
    "plt.legend()"
   ]
  },
  {
   "cell_type": "markdown",
   "metadata": {},
   "source": [
    "Bernie Sanders and Elizabeth Warren generally have higher polarity scores over all score intervals. This reaffirms the hypothesis that the politics subreddit is politically biased towards the democratic party. The comments with negative upvote scores seem to have lower scores for the democratic politicians, which indicates that comments that talk about the two democrats negatively generally receive lower scores."
   ]
  },
  {
   "cell_type": "code",
   "execution_count": 266,
   "metadata": {},
   "outputs": [
    {
     "data": {
      "text/plain": [
       "<matplotlib.legend.Legend at 0x7f3c8d489640>"
      ]
     },
     "execution_count": 266,
     "metadata": {},
     "output_type": "execute_result"
    },
    {
     "data": {
      "image/png": "[encoded data removed]",
      "text/plain": [
       "<Figure size 576x396 with 1 Axes>"
      ]
     },
     "metadata": {},
     "output_type": "display_data"
    }
   ],
   "source": [
    "rude = ['shitti', 'fuck', 'dick']\n",
    "for r in rude:\n",
    "    means = list(df.loc[r][['mean_'+str(i) for i in range(5)]])\n",
    "    stds = list(df.loc[r][['std_'+str(i) for i in range(5)]])\n",
    "    plt.errorbar(range(5), means, stds, marker='o', capsize=5, label=r)\n",
    "plt.legend()"
   ]
  },
  {
   "cell_type": "markdown",
   "metadata": {},
   "source": [
    "We can observe that explicit words have high polarity scores in highly downvoted posts. This indicates that the use of explicit words is unpopular on the politics subreddit. However, towards the more upvotes, the more the polarity scores increase again. This leads us to believe that posts that use explicit words tend to voice strong opinions, which tend to be polarising. This would explain why the scores are highest for the posts with the lowest and highest votes."
   ]
  },
  {
   "cell_type": "markdown",
   "metadata": {},
   "source": [
    "We also plot the polarity score of religions. Here, we can observe an interesting upwards trend in polarity towards the better rated posts. However, there is a big spike in polarity among the neutrally rated posts.\n"
   ]
  },
  {
   "cell_type": "code",
   "execution_count": 267,
   "metadata": {},
   "outputs": [
    {
     "data": {
      "text/plain": [
       "<matplotlib.legend.Legend at 0x7f3d53662400>"
      ]
     },
     "execution_count": 267,
     "metadata": {},
     "output_type": "execute_result"
    },
    {
     "data": {
      "image/png": "[encoded data removed]",
      "text/plain": [
       "<Figure size 576x396 with 1 Axes>"
      ]
     },
     "metadata": {},
     "output_type": "display_data"
    }
   ],
   "source": [
    "religions = ['jew', 'muslim', 'christ']\n",
    "for r in religions:\n",
    "    means = list(df.loc[r][['mean_'+str(i) for i in range(5)]])\n",
    "    stds = list(df.loc[r][['std_'+str(i) for i in range(5)]])\n",
    "    plt.errorbar(range(5), means, stds, marker='o', ecolor=None, capsize=5, label=r)\n",
    "    plt.rcParams.update({'lines.markeredgewidth': 1})\n",
    "plt.legend()"
   ]
  }
 ],
 "metadata": {
  "kernelspec": {
   "display_name": "Python 3",
   "language": "python",
   "name": "python3"
  },
  "language_info": {
   "codemirror_mode": {
    "name": "ipython",
    "version": 3
   },
   "file_extension": ".py",
   "mimetype": "text/x-python",
   "name": "python",
   "nbconvert_exporter": "python",
   "pygments_lexer": "ipython3",
   "version": "3.8.2"
  }
 },
 "nbformat": 4,
 "nbformat_minor": 4
}
